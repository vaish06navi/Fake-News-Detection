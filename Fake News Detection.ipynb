{
 "cells": [
  {
   "cell_type": "markdown",
   "id": "f1bf9968",
   "metadata": {},
   "source": [
    "# Dataset Description\n",
    "train.csv: A full training dataset with the following attributes\n",
    "\n",
    "id: unique id for a news article\n",
    "\n",
    "title: the title of a news article\n",
    "\n",
    "author: author of the news article\n",
    "\n",
    "text: the text of the article; could be incomplete\n",
    "\n",
    "label: a label that marks the article as potentially unreliable\n",
    "\n",
    "  1: unreliable\n",
    "  0: reliable\n",
    "test.csv: A testing dataset with all the same attributes at train.csv without the label"
   ]
  },
  {
   "cell_type": "code",
   "execution_count": 2,
   "id": "6486bebb",
   "metadata": {},
   "outputs": [],
   "source": [
    "import pandas as pd\n",
    "import numpy as np\n",
    "import re\n",
    "from matplotlib import pyplot as plt\n",
    "import seaborn as sns\n",
    "%matplotlib inline\n",
    "\n",
    "import nltk\n",
    "from nltk.corpus import stopwords\n",
    "from nltk.stem.porter import PorterStemmer\n",
    "\n",
    "from sklearn.feature_extraction.text import TfidfVectorizer\n",
    "from sklearn.feature_extraction.text import CountVectorizer\n",
    "from sklearn.feature_extraction.text import TfidfTransformer\n",
    "\n",
    "from sklearn.model_selection import train_test_split, cross_val_score\n",
    "from sklearn.metrics import confusion_matrix, classification_report, roc_curve, auc, RocCurveDisplay\n",
    "from sklearn.linear_model import LogisticRegression\n",
    "from sklearn.ensemble import RandomForestClassifier\n",
    "from sklearn.tree import DecisionTreeClassifier\n",
    "from sklearn.neighbors import KNeighborsClassifier\n",
    "from sklearn.svm import SVC\n",
    "from sklearn.naive_bayes import MultinomialNB\n",
    "\n",
    "import warnings\n",
    "warnings.filterwarnings(\"ignore\")"
   ]
  },
  {
   "cell_type": "code",
   "execution_count": 3,
   "id": "a5b8f614",
   "metadata": {},
   "outputs": [
    {
     "name": "stderr",
     "output_type": "stream",
     "text": [
      "[nltk_data] Downloading package stopwords to\n",
      "[nltk_data]     C:\\Users\\sreev\\AppData\\Roaming\\nltk_data...\n",
      "[nltk_data]   Unzipping corpora\\stopwords.zip.\n"
     ]
    },
    {
     "data": {
      "text/plain": [
       "True"
      ]
     },
     "execution_count": 3,
     "metadata": {},
     "output_type": "execute_result"
    }
   ],
   "source": [
    "nltk.download('stopwords')"
   ]
  },
  {
   "cell_type": "code",
   "execution_count": 4,
   "id": "a3e02ab5",
   "metadata": {},
   "outputs": [
    {
     "name": "stdout",
     "output_type": "stream",
     "text": [
      "['i', 'me', 'my', 'myself', 'we', 'our', 'ours', 'ourselves', 'you', \"you're\", \"you've\", \"you'll\", \"you'd\", 'your', 'yours', 'yourself', 'yourselves', 'he', 'him', 'his', 'himself', 'she', \"she's\", 'her', 'hers', 'herself', 'it', \"it's\", 'its', 'itself', 'they', 'them', 'their', 'theirs', 'themselves', 'what', 'which', 'who', 'whom', 'this', 'that', \"that'll\", 'these', 'those', 'am', 'is', 'are', 'was', 'were', 'be', 'been', 'being', 'have', 'has', 'had', 'having', 'do', 'does', 'did', 'doing', 'a', 'an', 'the', 'and', 'but', 'if', 'or', 'because', 'as', 'until', 'while', 'of', 'at', 'by', 'for', 'with', 'about', 'against', 'between', 'into', 'through', 'during', 'before', 'after', 'above', 'below', 'to', 'from', 'up', 'down', 'in', 'out', 'on', 'off', 'over', 'under', 'again', 'further', 'then', 'once', 'here', 'there', 'when', 'where', 'why', 'how', 'all', 'any', 'both', 'each', 'few', 'more', 'most', 'other', 'some', 'such', 'no', 'nor', 'not', 'only', 'own', 'same', 'so', 'than', 'too', 'very', 's', 't', 'can', 'will', 'just', 'don', \"don't\", 'should', \"should've\", 'now', 'd', 'll', 'm', 'o', 're', 've', 'y', 'ain', 'aren', \"aren't\", 'couldn', \"couldn't\", 'didn', \"didn't\", 'doesn', \"doesn't\", 'hadn', \"hadn't\", 'hasn', \"hasn't\", 'haven', \"haven't\", 'isn', \"isn't\", 'ma', 'mightn', \"mightn't\", 'mustn', \"mustn't\", 'needn', \"needn't\", 'shan', \"shan't\", 'shouldn', \"shouldn't\", 'wasn', \"wasn't\", 'weren', \"weren't\", 'won', \"won't\", 'wouldn', \"wouldn't\"]\n"
     ]
    }
   ],
   "source": [
    "print (stopwords.words('english'))"
   ]
  },
  {
   "cell_type": "code",
   "execution_count": 5,
   "id": "9fde0e50",
   "metadata": {},
   "outputs": [],
   "source": [
    "# Exploratory Data Analysis"
   ]
  },
  {
   "cell_type": "code",
   "execution_count": 7,
   "id": "3c9e1e88",
   "metadata": {},
   "outputs": [
    {
     "data": {
      "text/html": [
       "<div>\n",
       "<style scoped>\n",
       "    .dataframe tbody tr th:only-of-type {\n",
       "        vertical-align: middle;\n",
       "    }\n",
       "\n",
       "    .dataframe tbody tr th {\n",
       "        vertical-align: top;\n",
       "    }\n",
       "\n",
       "    .dataframe thead th {\n",
       "        text-align: right;\n",
       "    }\n",
       "</style>\n",
       "<table border=\"1\" class=\"dataframe\">\n",
       "  <thead>\n",
       "    <tr style=\"text-align: right;\">\n",
       "      <th></th>\n",
       "      <th>id</th>\n",
       "      <th>title</th>\n",
       "      <th>author</th>\n",
       "      <th>text</th>\n",
       "      <th>label</th>\n",
       "    </tr>\n",
       "  </thead>\n",
       "  <tbody>\n",
       "    <tr>\n",
       "      <th>0</th>\n",
       "      <td>0</td>\n",
       "      <td>House Dem Aide: We Didn’t Even See Comey’s Let...</td>\n",
       "      <td>Darrell Lucus</td>\n",
       "      <td>House Dem Aide: We Didn’t Even See Comey’s Let...</td>\n",
       "      <td>1</td>\n",
       "    </tr>\n",
       "    <tr>\n",
       "      <th>1</th>\n",
       "      <td>1</td>\n",
       "      <td>FLYNN: Hillary Clinton, Big Woman on Campus - ...</td>\n",
       "      <td>Daniel J. Flynn</td>\n",
       "      <td>Ever get the feeling your life circles the rou...</td>\n",
       "      <td>0</td>\n",
       "    </tr>\n",
       "    <tr>\n",
       "      <th>2</th>\n",
       "      <td>2</td>\n",
       "      <td>Why the Truth Might Get You Fired</td>\n",
       "      <td>Consortiumnews.com</td>\n",
       "      <td>Why the Truth Might Get You Fired October 29, ...</td>\n",
       "      <td>1</td>\n",
       "    </tr>\n",
       "    <tr>\n",
       "      <th>3</th>\n",
       "      <td>3</td>\n",
       "      <td>15 Civilians Killed In Single US Airstrike Hav...</td>\n",
       "      <td>Jessica Purkiss</td>\n",
       "      <td>Videos 15 Civilians Killed In Single US Airstr...</td>\n",
       "      <td>1</td>\n",
       "    </tr>\n",
       "    <tr>\n",
       "      <th>4</th>\n",
       "      <td>4</td>\n",
       "      <td>Iranian woman jailed for fictional unpublished...</td>\n",
       "      <td>Howard Portnoy</td>\n",
       "      <td>Print \\nAn Iranian woman has been sentenced to...</td>\n",
       "      <td>1</td>\n",
       "    </tr>\n",
       "  </tbody>\n",
       "</table>\n",
       "</div>"
      ],
      "text/plain": [
       "   id                                              title              author  \\\n",
       "0   0  House Dem Aide: We Didn’t Even See Comey’s Let...       Darrell Lucus   \n",
       "1   1  FLYNN: Hillary Clinton, Big Woman on Campus - ...     Daniel J. Flynn   \n",
       "2   2                  Why the Truth Might Get You Fired  Consortiumnews.com   \n",
       "3   3  15 Civilians Killed In Single US Airstrike Hav...     Jessica Purkiss   \n",
       "4   4  Iranian woman jailed for fictional unpublished...      Howard Portnoy   \n",
       "\n",
       "                                                text  label  \n",
       "0  House Dem Aide: We Didn’t Even See Comey’s Let...      1  \n",
       "1  Ever get the feeling your life circles the rou...      0  \n",
       "2  Why the Truth Might Get You Fired October 29, ...      1  \n",
       "3  Videos 15 Civilians Killed In Single US Airstr...      1  \n",
       "4  Print \\nAn Iranian woman has been sentenced to...      1  "
      ]
     },
     "execution_count": 7,
     "metadata": {},
     "output_type": "execute_result"
    }
   ],
   "source": [
    "train_news = pd.read_csv('train_df.csv')\n",
    "train_news.head()"
   ]
  },
  {
   "cell_type": "code",
   "execution_count": 8,
   "id": "bfc791be",
   "metadata": {},
   "outputs": [
    {
     "data": {
      "text/html": [
       "<div>\n",
       "<style scoped>\n",
       "    .dataframe tbody tr th:only-of-type {\n",
       "        vertical-align: middle;\n",
       "    }\n",
       "\n",
       "    .dataframe tbody tr th {\n",
       "        vertical-align: top;\n",
       "    }\n",
       "\n",
       "    .dataframe thead th {\n",
       "        text-align: right;\n",
       "    }\n",
       "</style>\n",
       "<table border=\"1\" class=\"dataframe\">\n",
       "  <thead>\n",
       "    <tr style=\"text-align: right;\">\n",
       "      <th></th>\n",
       "      <th>id</th>\n",
       "      <th>title</th>\n",
       "      <th>author</th>\n",
       "      <th>text</th>\n",
       "    </tr>\n",
       "  </thead>\n",
       "  <tbody>\n",
       "    <tr>\n",
       "      <th>0</th>\n",
       "      <td>20800</td>\n",
       "      <td>Specter of Trump Loosens Tongues, if Not Purse...</td>\n",
       "      <td>David Streitfeld</td>\n",
       "      <td>PALO ALTO, Calif.  —   After years of scorning...</td>\n",
       "    </tr>\n",
       "    <tr>\n",
       "      <th>1</th>\n",
       "      <td>20801</td>\n",
       "      <td>Russian warships ready to strike terrorists ne...</td>\n",
       "      <td>NaN</td>\n",
       "      <td>Russian warships ready to strike terrorists ne...</td>\n",
       "    </tr>\n",
       "    <tr>\n",
       "      <th>2</th>\n",
       "      <td>20802</td>\n",
       "      <td>#NoDAPL: Native American Leaders Vow to Stay A...</td>\n",
       "      <td>Common Dreams</td>\n",
       "      <td>Videos #NoDAPL: Native American Leaders Vow to...</td>\n",
       "    </tr>\n",
       "    <tr>\n",
       "      <th>3</th>\n",
       "      <td>20803</td>\n",
       "      <td>Tim Tebow Will Attempt Another Comeback, This ...</td>\n",
       "      <td>Daniel Victor</td>\n",
       "      <td>If at first you don’t succeed, try a different...</td>\n",
       "    </tr>\n",
       "    <tr>\n",
       "      <th>4</th>\n",
       "      <td>20804</td>\n",
       "      <td>Keiser Report: Meme Wars (E995)</td>\n",
       "      <td>Truth Broadcast Network</td>\n",
       "      <td>42 mins ago 1 Views 0 Comments 0 Likes 'For th...</td>\n",
       "    </tr>\n",
       "  </tbody>\n",
       "</table>\n",
       "</div>"
      ],
      "text/plain": [
       "      id                                              title  \\\n",
       "0  20800  Specter of Trump Loosens Tongues, if Not Purse...   \n",
       "1  20801  Russian warships ready to strike terrorists ne...   \n",
       "2  20802  #NoDAPL: Native American Leaders Vow to Stay A...   \n",
       "3  20803  Tim Tebow Will Attempt Another Comeback, This ...   \n",
       "4  20804                    Keiser Report: Meme Wars (E995)   \n",
       "\n",
       "                    author                                               text  \n",
       "0         David Streitfeld  PALO ALTO, Calif.  —   After years of scorning...  \n",
       "1                      NaN  Russian warships ready to strike terrorists ne...  \n",
       "2            Common Dreams  Videos #NoDAPL: Native American Leaders Vow to...  \n",
       "3            Daniel Victor  If at first you don’t succeed, try a different...  \n",
       "4  Truth Broadcast Network  42 mins ago 1 Views 0 Comments 0 Likes 'For th...  "
      ]
     },
     "execution_count": 8,
     "metadata": {},
     "output_type": "execute_result"
    }
   ],
   "source": [
    "test_news = pd.read_csv('test_df.csv')\n",
    "test_news.head()"
   ]
  },
  {
   "cell_type": "code",
   "execution_count": 9,
   "id": "8a6141a7",
   "metadata": {},
   "outputs": [
    {
     "data": {
      "text/plain": [
       "(20800, 5)"
      ]
     },
     "execution_count": 9,
     "metadata": {},
     "output_type": "execute_result"
    }
   ],
   "source": [
    "train_news.shape"
   ]
  },
  {
   "cell_type": "code",
   "execution_count": 10,
   "id": "1d069e6d",
   "metadata": {},
   "outputs": [
    {
     "data": {
      "text/plain": [
       "(5200, 4)"
      ]
     },
     "execution_count": 10,
     "metadata": {},
     "output_type": "execute_result"
    }
   ],
   "source": [
    "test_news.shape"
   ]
  },
  {
   "cell_type": "markdown",
   "id": "94c5731e",
   "metadata": {},
   "source": [
    "# stopwords \n",
    "- are those words which dosen't add much value to a paragraph or text can be the words such as (the, a , you , where, what ,when, etc...)"
   ]
  },
  {
   "cell_type": "code",
   "execution_count": 11,
   "id": "3d9ed10e",
   "metadata": {},
   "outputs": [
    {
     "data": {
      "text/plain": [
       "id           0\n",
       "title      558\n",
       "author    1957\n",
       "text        39\n",
       "label        0\n",
       "dtype: int64"
      ]
     },
     "execution_count": 11,
     "metadata": {},
     "output_type": "execute_result"
    }
   ],
   "source": [
    "train_news.isnull().sum()"
   ]
  },
  {
   "cell_type": "code",
   "execution_count": 12,
   "id": "ec2e1ba9",
   "metadata": {},
   "outputs": [
    {
     "data": {
      "text/plain": [
       "id          0\n",
       "title     122\n",
       "author    503\n",
       "text        7\n",
       "dtype: int64"
      ]
     },
     "execution_count": 12,
     "metadata": {},
     "output_type": "execute_result"
    }
   ],
   "source": [
    "test_news.isnull().sum()"
   ]
  },
  {
   "cell_type": "markdown",
   "id": "37c47dc1",
   "metadata": {},
   "source": [
    "# Data Pre-processing"
   ]
  },
  {
   "cell_type": "code",
   "execution_count": 13,
   "id": "4aa19f20",
   "metadata": {},
   "outputs": [],
   "source": [
    "# replacing the null values with empty string\n",
    "\n",
    "train_news = train_news.fillna(' ')\n",
    "test_news = test_news.fillna(' ')"
   ]
  },
  {
   "cell_type": "code",
   "execution_count": 14,
   "id": "ca330725",
   "metadata": {},
   "outputs": [],
   "source": [
    "# merging the author name and news title\n",
    "train_news['content'] = train_news['author']+' '+train_news['title']\n",
    "test_news['content'] = test_news['author']+' '+test_news['title']"
   ]
  },
  {
   "cell_type": "code",
   "execution_count": 15,
   "id": "c3dde8ed",
   "metadata": {},
   "outputs": [
    {
     "name": "stdout",
     "output_type": "stream",
     "text": [
      "0        Darrell Lucus House Dem Aide: We Didn’t Even S...\n",
      "1        Daniel J. Flynn FLYNN: Hillary Clinton, Big Wo...\n",
      "2        Consortiumnews.com Why the Truth Might Get You...\n",
      "3        Jessica Purkiss 15 Civilians Killed In Single ...\n",
      "4        Howard Portnoy Iranian woman jailed for fictio...\n",
      "                               ...                        \n",
      "20795    Jerome Hudson Rapper T.I.: Trump a ’Poster Chi...\n",
      "20796    Benjamin Hoffman N.F.L. Playoffs: Schedule, Ma...\n",
      "20797    Michael J. de la Merced and Rachel Abrams Macy...\n",
      "20798    Alex Ansary NATO, Russia To Hold Parallel Exer...\n",
      "20799              David Swanson What Keeps the F-35 Alive\n",
      "Name: content, Length: 20800, dtype: object\n"
     ]
    }
   ],
   "source": [
    "print(train_news['content'])"
   ]
  },
  {
   "cell_type": "code",
   "execution_count": 16,
   "id": "0c01f5c2",
   "metadata": {},
   "outputs": [
    {
     "name": "stdout",
     "output_type": "stream",
     "text": [
      "0       David Streitfeld Specter of Trump Loosens Tong...\n",
      "1         Russian warships ready to strike terrorists ...\n",
      "2       Common Dreams #NoDAPL: Native American Leaders...\n",
      "3       Daniel Victor Tim Tebow Will Attempt Another C...\n",
      "4       Truth Broadcast Network Keiser Report: Meme Wa...\n",
      "                              ...                        \n",
      "5195    Jody Rosen The Bangladeshi Traffic Jam That Ne...\n",
      "5196    Sheryl Gay Stolberg John Kasich Signs One Abor...\n",
      "5197    Mike McPhate California Today: What, Exactly, ...\n",
      "5198      300 US Marines To Be Deployed To Russian Bor...\n",
      "5199    Teddy Wayne Awkward Sex, Onscreen and Off - Th...\n",
      "Name: content, Length: 5200, dtype: object\n"
     ]
    }
   ],
   "source": [
    "print(test_news['content'])"
   ]
  },
  {
   "cell_type": "markdown",
   "id": "a4821c63",
   "metadata": {},
   "source": [
    "# Stemming:\n",
    "- Stemming is the process of reducing a word to its Root word has no meaining\n",
    "\n",
    "example: actor, actress, acting --> act"
   ]
  },
  {
   "cell_type": "code",
   "execution_count": 17,
   "id": "33cc1909",
   "metadata": {},
   "outputs": [],
   "source": [
    "port_stem = PorterStemmer()\n",
    "\n",
    "def stemming(content):\n",
    "    stemmed_content = re.sub('^a-zA-Z', ' ', content)\n",
    "    stemmed_content = stemmed_content.lower()\n",
    "    stemmed_content = stemmed_content.split()\n",
    "    stemmed_content = [port_stem.stem(word) for word in stemmed_content if not word in stopwords.words('english')]\n",
    "    stemmed_content = ' '.join(stemmed_content)\n",
    "    return stemmed_content"
   ]
  },
  {
   "cell_type": "code",
   "execution_count": 18,
   "id": "904ad874",
   "metadata": {},
   "outputs": [],
   "source": [
    "train_news['content'] = train_news['content'].apply(stemming)\n",
    "test_news['content'] = test_news['content'].apply(stemming)"
   ]
  },
  {
   "cell_type": "code",
   "execution_count": 19,
   "id": "c54b13fd",
   "metadata": {},
   "outputs": [
    {
     "name": "stdout",
     "output_type": "stream",
     "text": [
      "0        darrel lucu hous dem aide: didn’t even see com...\n",
      "1        daniel j. flynn flynn: hillari clinton, big wo...\n",
      "2                  consortiumnews.com truth might get fire\n",
      "3        jessica purkiss 15 civilian kill singl us airs...\n",
      "4        howard portnoy iranian woman jail fiction unpu...\n",
      "                               ...                        \n",
      "20795    jerom hudson rapper t.i.: trump ’poster child ...\n",
      "20796    benjamin hoffman n.f.l. playoffs: schedule, ma...\n",
      "20797    michael j. de la merc rachel abram macy’ said ...\n",
      "20798    alex ansari nato, russia hold parallel exercis...\n",
      "20799                         david swanson keep f-35 aliv\n",
      "Name: content, Length: 20800, dtype: object\n"
     ]
    }
   ],
   "source": [
    "print(train_news['content'])"
   ]
  },
  {
   "cell_type": "code",
   "execution_count": 20,
   "id": "0207dab1",
   "metadata": {},
   "outputs": [
    {
     "name": "stdout",
     "output_type": "stream",
     "text": [
      "0       david streitfeld specter trump loosen tongues,...\n",
      "1       russian warship readi strike terrorist near al...\n",
      "2       common dream #nodapl: nativ american leader vo...\n",
      "3       daniel victor tim tebow attempt anoth comeback...\n",
      "4       truth broadcast network keiser report: meme wa...\n",
      "                              ...                        \n",
      "5195    jodi rosen bangladeshi traffic jam never end -...\n",
      "5196    sheryl gay stolberg john kasich sign one abort...\n",
      "5197    mike mcphate california today: what, exactly, ...\n",
      "5198            300 us marin deploy russian border norway\n",
      "5199     teddi wayn awkward sex, onscreen - new york time\n",
      "Name: content, Length: 5200, dtype: object\n"
     ]
    }
   ],
   "source": [
    "print(test_news['content'])"
   ]
  },
  {
   "cell_type": "code",
   "execution_count": 21,
   "id": "e95fcc2c",
   "metadata": {},
   "outputs": [],
   "source": [
    "#separating the data and label\n",
    "X = train_news['content'].values\n",
    "Y = train_news['label'].values"
   ]
  },
  {
   "cell_type": "code",
   "execution_count": 22,
   "id": "c825a27c",
   "metadata": {},
   "outputs": [
    {
     "name": "stdout",
     "output_type": "stream",
     "text": [
      "['darrel lucu hous dem aide: didn’t even see comey’ letter jason chaffetz tweet'\n",
      " 'daniel j. flynn flynn: hillari clinton, big woman campu - breitbart'\n",
      " 'consortiumnews.com truth might get fire' ...\n",
      " 'michael j. de la merc rachel abram macy’ said receiv takeov approach hudson’ bay - new york time'\n",
      " 'alex ansari nato, russia hold parallel exercis balkan'\n",
      " 'david swanson keep f-35 aliv']\n"
     ]
    }
   ],
   "source": [
    "print(X)"
   ]
  },
  {
   "cell_type": "code",
   "execution_count": 23,
   "id": "c66b58d3",
   "metadata": {},
   "outputs": [
    {
     "name": "stdout",
     "output_type": "stream",
     "text": [
      "[1 0 1 ... 0 1 1]\n"
     ]
    }
   ],
   "source": [
    "print(Y)"
   ]
  },
  {
   "cell_type": "markdown",
   "id": "ad30e38e",
   "metadata": {},
   "source": [
    "# Converting the Textual Data to Numerical Data"
   ]
  },
  {
   "cell_type": "code",
   "execution_count": 24,
   "id": "201fc65b",
   "metadata": {},
   "outputs": [],
   "source": [
    "transformer = TfidfTransformer(smooth_idf=False)\n",
    "count_vectorizer = CountVectorizer(ngram_range=(1, 2))\n",
    "counts = count_vectorizer.fit_transform(train_news['content'].values)\n",
    "X = transformer.fit_transform(counts)"
   ]
  },
  {
   "cell_type": "code",
   "execution_count": 25,
   "id": "235f9745",
   "metadata": {},
   "outputs": [],
   "source": [
    "Y = train_news['label'].values\n",
    "test_counts = count_vectorizer.transform(test_news['content'].values)\n",
    "test_tfidf = transformer.fit_transform(test_counts)"
   ]
  },
  {
   "cell_type": "code",
   "execution_count": 26,
   "id": "4b4b4f06",
   "metadata": {},
   "outputs": [
    {
     "name": "stdout",
     "output_type": "stream",
     "text": [
      "  (0, 135930)\t0.1588471986018004\n",
      "  (0, 115809)\t0.24793148653615257\n",
      "  (0, 115798)\t0.13747300677495589\n",
      "  (0, 77621)\t0.24793148653615257\n",
      "  (0, 77614)\t0.19576128048469554\n",
      "  (0, 74801)\t0.24793148653615257\n",
      "  (0, 74779)\t0.15593308475506662\n",
      "  (0, 67783)\t0.19814845819564353\n",
      "  (0, 67779)\t0.13210799012659652\n",
      "  (0, 61949)\t0.24793148653615257\n",
      "  (0, 61909)\t0.11915729770198634\n",
      "  (0, 44092)\t0.24793148653615257\n",
      "  (0, 44034)\t0.1243290070746859\n",
      "  (0, 36696)\t0.22303997236589804\n",
      "  (0, 36686)\t0.1597536087737\n",
      "  (0, 35099)\t0.24793148653615257\n",
      "  (0, 35095)\t0.14597825214418647\n",
      "  (0, 33010)\t0.19576128048469554\n",
      "  (0, 33009)\t0.1936018155709678\n",
      "  (0, 27477)\t0.19814845819564353\n",
      "  (0, 27411)\t0.13156850672059786\n",
      "  (0, 22406)\t0.24793148653615257\n",
      "  (0, 22399)\t0.19814845819564353\n",
      "  (0, 4864)\t0.24793148653615257\n",
      "  (0, 4863)\t0.21652189273323433\n",
      "  :\t:\n",
      "  (20797, 2565)\t0.17751269732514657\n",
      "  (20798, 112148)\t0.3171116393668421\n",
      "  (20798, 112039)\t0.13565821442973863\n",
      "  (20798, 94516)\t0.3171116393668421\n",
      "  (20798, 94515)\t0.2852746630508008\n",
      "  (20798, 87374)\t0.29702474374530186\n",
      "  (20798, 87338)\t0.19399337117058932\n",
      "  (20798, 61022)\t0.3171116393668421\n",
      "  (20798, 60986)\t0.1989476024555316\n",
      "  (20798, 44792)\t0.3171116393668421\n",
      "  (20798, 44791)\t0.2568509525022214\n",
      "  (20798, 11805)\t0.27693784812376165\n",
      "  (20798, 7780)\t0.29702474374530186\n",
      "  (20798, 7739)\t0.18905688772617318\n",
      "  (20798, 5478)\t0.18940815584156476\n",
      "  (20798, 5477)\t0.17329205116131682\n",
      "  (20799, 127048)\t0.4330263902498437\n",
      "  (20799, 127042)\t0.3089481722249457\n",
      "  (20799, 69987)\t0.389551950276176\n",
      "  (20799, 69985)\t0.24923790049632386\n",
      "  (20799, 33306)\t0.3233091194528707\n",
      "  (20799, 33241)\t0.20538477686139214\n",
      "  (20799, 5674)\t0.3165086369202432\n",
      "  (20799, 1512)\t0.389551950276176\n",
      "  (20799, 1511)\t0.3233091194528707\n"
     ]
    }
   ],
   "source": [
    "print(X)"
   ]
  },
  {
   "cell_type": "code",
   "execution_count": 27,
   "id": "9b2d0025",
   "metadata": {},
   "outputs": [
    {
     "data": {
      "text/plain": [
       "(20800, 149839)"
      ]
     },
     "execution_count": 27,
     "metadata": {},
     "output_type": "execute_result"
    }
   ],
   "source": [
    "X.shape"
   ]
  },
  {
   "cell_type": "code",
   "execution_count": 28,
   "id": "313e5b1a",
   "metadata": {},
   "outputs": [
    {
     "name": "stdout",
     "output_type": "stream",
     "text": [
      "  (0, 146974)\t0.09183124629402446\n",
      "  (0, 146912)\t0.09159344849469447\n",
      "  (0, 138658)\t0.31361994032847285\n",
      "  (0, 133891)\t0.11556335066394374\n",
      "  (0, 131262)\t0.08973809446727839\n",
      "  (0, 125082)\t0.37176774852019523\n",
      "  (0, 119175)\t0.31922088484910977\n",
      "  (0, 119174)\t0.31922088484910977\n",
      "  (0, 103461)\t0.4008416526160564\n",
      "  (0, 88685)\t0.09159344849469447\n",
      "  (0, 88309)\t0.08864338808734092\n",
      "  (0, 77098)\t0.4008416526160564\n",
      "  (0, 33305)\t0.37176774852019523\n",
      "  (0, 33241)\t0.21352013132269787\n",
      "  (1, 141935)\t0.3197321056732977\n",
      "  (1, 129488)\t0.24220695226346456\n",
      "  (1, 125215)\t0.37398379841863216\n",
      "  (1, 125154)\t0.253017941422062\n",
      "  (1, 112495)\t0.33099034911763164\n",
      "  (1, 112324)\t0.20450347654140066\n",
      "  (1, 105694)\t0.37398379841863216\n",
      "  (1, 105655)\t0.27360623911302084\n",
      "  (1, 87652)\t0.37398379841863216\n",
      "  (1, 87651)\t0.25875516928673514\n",
      "  (1, 5374)\t0.24961280999962987\n",
      "  :\t:\n",
      "  (5197, 81248)\t0.3437050953071142\n",
      "  (5197, 81242)\t0.32881349067825716\n",
      "  (5197, 19649)\t0.3437050953071142\n",
      "  (5197, 19585)\t0.2854637071814326\n",
      "  (5198, 138124)\t0.33805719608963114\n",
      "  (5198, 137976)\t0.18388483916776885\n",
      "  (5198, 112348)\t0.3103521962588264\n",
      "  (5198, 112324)\t0.2088697512011079\n",
      "  (5198, 89921)\t0.3265585822423331\n",
      "  (5198, 79624)\t0.38196858190394256\n",
      "  (5198, 79618)\t0.28264719642802166\n",
      "  (5198, 35763)\t0.2988535824115284\n",
      "  (5198, 16606)\t0.2345245649355333\n",
      "  (5198, 1455)\t0.38196858190394256\n",
      "  (5198, 1439)\t0.2988535824115284\n",
      "  (5199, 146974)\t0.11005056724472459\n",
      "  (5199, 146912)\t0.10976559035764172\n",
      "  (5199, 142492)\t0.4106843094497719\n",
      "  (5199, 131262)\t0.10754213405712311\n",
      "  (5199, 117122)\t0.33507941973315636\n",
      "  (5199, 92439)\t0.4803686438542903\n",
      "  (5199, 92438)\t0.4803686438542903\n",
      "  (5199, 88685)\t0.10976559035764172\n",
      "  (5199, 88309)\t0.1062302379113079\n",
      "  (5199, 11082)\t0.4455264766520311\n"
     ]
    }
   ],
   "source": [
    "print(test_tfidf)"
   ]
  },
  {
   "cell_type": "code",
   "execution_count": 29,
   "id": "eebe05f1",
   "metadata": {},
   "outputs": [
    {
     "data": {
      "text/plain": [
       "(5200, 149839)"
      ]
     },
     "execution_count": 29,
     "metadata": {},
     "output_type": "execute_result"
    }
   ],
   "source": [
    "test_tfidf.shape"
   ]
  },
  {
   "cell_type": "markdown",
   "id": "3568135a",
   "metadata": {},
   "source": [
    "# Spliting the data into training and testing data"
   ]
  },
  {
   "cell_type": "code",
   "execution_count": 30,
   "id": "2d60da5a",
   "metadata": {},
   "outputs": [],
   "source": [
    "X_train, X_test, Y_train, Y_test = train_test_split(X, Y, test_size = 0.2, stratify=Y, random_state=42)"
   ]
  },
  {
   "cell_type": "code",
   "execution_count": 31,
   "id": "ae62cace",
   "metadata": {},
   "outputs": [
    {
     "name": "stdout",
     "output_type": "stream",
     "text": [
      "Number of Training dataset: 16640\n",
      "Number of Testing dataset: 4160\n"
     ]
    }
   ],
   "source": [
    "print(f\"Number of Training dataset: {X_train.shape[0]}\\nNumber of Testing dataset: {X_test.shape[0]}\")"
   ]
  },
  {
   "cell_type": "code",
   "execution_count": 32,
   "id": "d123344a",
   "metadata": {},
   "outputs": [],
   "source": [
    "def kfolds(model, model_name):\n",
    "    model = cross_val_score(model, X,Y, cv=10)\n",
    "    model_score = np.average(model)\n",
    "    print(f\"{model_name} score on cross validation: {model_score * 100}%\")"
   ]
  },
  {
   "cell_type": "code",
   "execution_count": 33,
   "id": "f9e5895f",
   "metadata": {},
   "outputs": [],
   "source": [
    "def train(model, model_name):\n",
    "    model.fit(X_train, Y_train)\n",
    "    model_train_score = model.score(X_train, Y_train)\n",
    "    model_test_score = model.score(X_test, Y_test)\n",
    "    print(f\"{model_name} model score on Training data: {model_train_score * 100}%\\n{model_name} model score on Testing data: {model_test_score * 100}%\")"
   ]
  },
  {
   "cell_type": "code",
   "execution_count": 34,
   "id": "b7992770",
   "metadata": {},
   "outputs": [],
   "source": [
    "def conf_matrix(model):\n",
    "    Y_pred = model.predict(X_test)\n",
    "    cm = confusion_matrix(Y_test, Y_pred)\n",
    "    plt.figure(figsize=(8,5))\n",
    "    sns.heatmap(cm, annot=True, fmt='.2f');"
   ]
  },
  {
   "cell_type": "code",
   "execution_count": 35,
   "id": "90413265",
   "metadata": {},
   "outputs": [],
   "source": [
    "def class_report(model):\n",
    "    Y_pred = model.predict(X_test)\n",
    "    print(classification_report(Y_test, Y_pred))\n",
    "    "
   ]
  },
  {
   "cell_type": "code",
   "execution_count": 36,
   "id": "0babb037",
   "metadata": {},
   "outputs": [],
   "source": [
    "def roc(model, model_name):\n",
    "    Y_pred_svm = model.decision_function(X_test)\n",
    "    svm_fpr, svm_tpr, _ = roc_curve(Y_test, Y_pred_svm)\n",
    "    auc_svm = auc(svm_fpr, svm_tpr)\n",
    "    plt.figure(figsize=(5, 5), dpi=100)\n",
    "    plt.plot(svm_fpr, svm_tpr, color=\"darkorange\", label=f'{model_name} (auc = %0.3f)' % auc_svm)\n",
    "    plt.plot([0, 1], [0, 1], color=\"navy\", lw=2, linestyle=\"--\")\n",
    "    plt.xlabel('False Positive Rate -->')\n",
    "    plt.ylabel('True Positive Rate -->')\n",
    "    plt.legend()\n",
    "    plt.show()"
   ]
  },
  {
   "cell_type": "markdown",
   "id": "751430e0",
   "metadata": {},
   "source": [
    "# Logistic Regression\n"
   ]
  },
  {
   "cell_type": "code",
   "execution_count": 37,
   "id": "d4b23079",
   "metadata": {},
   "outputs": [
    {
     "name": "stdout",
     "output_type": "stream",
     "text": [
      "Logistic Regression model score on Training data: 99.0264423076923%\n",
      "Logistic Regression model score on Testing data: 96.70673076923076%\n"
     ]
    }
   ],
   "source": [
    "log_model = LogisticRegression()\n",
    "train(log_model, \"Logistic Regression\")"
   ]
  },
  {
   "cell_type": "code",
   "execution_count": 38,
   "id": "dff2fcf2",
   "metadata": {},
   "outputs": [
    {
     "data": {
      "image/png": "[encoded data removed]",
      "text/plain": [
       "<Figure size 800x500 with 2 Axes>"
      ]
     },
     "metadata": {},
     "output_type": "display_data"
    }
   ],
   "source": [
    "conf_matrix(log_model)"
   ]
  },
  {
   "cell_type": "code",
   "execution_count": 39,
   "id": "66d5fc80",
   "metadata": {},
   "outputs": [
    {
     "name": "stdout",
     "output_type": "stream",
     "text": [
      "              precision    recall  f1-score   support\n",
      "\n",
      "           0       0.99      0.94      0.97      2077\n",
      "           1       0.94      0.99      0.97      2083\n",
      "\n",
      "    accuracy                           0.97      4160\n",
      "   macro avg       0.97      0.97      0.97      4160\n",
      "weighted avg       0.97      0.97      0.97      4160\n",
      "\n"
     ]
    }
   ],
   "source": [
    "class_report(log_model)"
   ]
  },
  {
   "cell_type": "code",
   "execution_count": 40,
   "id": "9f6664c4",
   "metadata": {},
   "outputs": [
    {
     "data": {
      "image/png": "[encoded data removed]",
      "text/plain": [
       "<Figure size 500x500 with 1 Axes>"
      ]
     },
     "metadata": {},
     "output_type": "display_data"
    }
   ],
   "source": [
    "roc(log_model, 'Logistic_Regression')"
   ]
  },
  {
   "cell_type": "markdown",
   "id": "7d6993b1",
   "metadata": {},
   "source": [
    "# SVM Model"
   ]
  },
  {
   "cell_type": "code",
   "execution_count": 41,
   "id": "b860fa66",
   "metadata": {},
   "outputs": [
    {
     "name": "stdout",
     "output_type": "stream",
     "text": [
      "SV_classifier model score on Training data: 99.97596153846153%\n",
      "SV_classifier model score on Testing data: 98.02884615384615%\n"
     ]
    }
   ],
   "source": [
    "svm_model = SVC()\n",
    "train(svm_model, 'SV_classifier')"
   ]
  },
  {
   "cell_type": "code",
   "execution_count": 42,
   "id": "23716045",
   "metadata": {},
   "outputs": [
    {
     "data": {
      "image/png": "[encoded data removed]",
      "text/plain": [
       "<Figure size 800x500 with 2 Axes>"
      ]
     },
     "metadata": {},
     "output_type": "display_data"
    }
   ],
   "source": [
    "conf_matrix(svm_model)"
   ]
  },
  {
   "cell_type": "code",
   "execution_count": 43,
   "id": "0e0b412a",
   "metadata": {},
   "outputs": [
    {
     "name": "stdout",
     "output_type": "stream",
     "text": [
      "              precision    recall  f1-score   support\n",
      "\n",
      "           0       0.99      0.97      0.98      2077\n",
      "           1       0.97      0.99      0.98      2083\n",
      "\n",
      "    accuracy                           0.98      4160\n",
      "   macro avg       0.98      0.98      0.98      4160\n",
      "weighted avg       0.98      0.98      0.98      4160\n",
      "\n"
     ]
    }
   ],
   "source": [
    "class_report(svm_model)"
   ]
  },
  {
   "cell_type": "code",
   "execution_count": 44,
   "id": "c4d16062",
   "metadata": {},
   "outputs": [
    {
     "data": {
      "image/png": "[encoded data removed]",
      "text/plain": [
       "<Figure size 500x500 with 1 Axes>"
      ]
     },
     "metadata": {},
     "output_type": "display_data"
    }
   ],
   "source": [
    "roc(svm_model, 'SV_classifier')"
   ]
  },
  {
   "cell_type": "markdown",
   "id": "5942947f",
   "metadata": {},
   "source": [
    "# Decision Tree Classifier Model"
   ]
  },
  {
   "cell_type": "code",
   "execution_count": 45,
   "id": "83526a64",
   "metadata": {},
   "outputs": [
    {
     "name": "stdout",
     "output_type": "stream",
     "text": [
      "Decision_Tree score on cross validation: 99.55288461538461%\n",
      "Decision_Tree model score on Training data: 100.0%\n",
      "Decision_Tree model score on Testing data: 99.375%\n"
     ]
    }
   ],
   "source": [
    "dt_model = DecisionTreeClassifier()\n",
    "kfolds(dt_model, \"Decision_Tree\")\n",
    "train(dt_model, \"Decision_Tree\")"
   ]
  },
  {
   "cell_type": "code",
   "execution_count": 46,
   "id": "78f016e0",
   "metadata": {},
   "outputs": [
    {
     "data": {
      "image/png": "[encoded data removed]",
      "text/plain": [
       "<Figure size 800x500 with 2 Axes>"
      ]
     },
     "metadata": {},
     "output_type": "display_data"
    }
   ],
   "source": [
    "conf_matrix(dt_model)"
   ]
  },
  {
   "cell_type": "code",
   "execution_count": 47,
   "id": "687ffbea",
   "metadata": {},
   "outputs": [
    {
     "name": "stdout",
     "output_type": "stream",
     "text": [
      "              precision    recall  f1-score   support\n",
      "\n",
      "           0       1.00      0.99      0.99      2077\n",
      "           1       0.99      1.00      0.99      2083\n",
      "\n",
      "    accuracy                           0.99      4160\n",
      "   macro avg       0.99      0.99      0.99      4160\n",
      "weighted avg       0.99      0.99      0.99      4160\n",
      "\n"
     ]
    }
   ],
   "source": [
    "class_report(dt_model)"
   ]
  },
  {
   "cell_type": "markdown",
   "id": "3c23355e",
   "metadata": {},
   "source": [
    "# Random Forest Classifier"
   ]
  },
  {
   "cell_type": "code",
   "execution_count": 48,
   "id": "dbb9f499",
   "metadata": {},
   "outputs": [
    {
     "name": "stdout",
     "output_type": "stream",
     "text": [
      "Random_Forest model score on Training data: 100.0%\n",
      "Random_Forest model score on Testing data: 99.27884615384616%\n"
     ]
    }
   ],
   "source": [
    "rf_model = RandomForestClassifier()\n",
    "train(rf_model, \"Random_Forest\")"
   ]
  },
  {
   "cell_type": "code",
   "execution_count": 49,
   "id": "e912d358",
   "metadata": {},
   "outputs": [
    {
     "data": {
      "image/png": "[encoded data removed]",
      "text/plain": [
       "<Figure size 800x500 with 2 Axes>"
      ]
     },
     "metadata": {},
     "output_type": "display_data"
    }
   ],
   "source": [
    "conf_matrix(rf_model)"
   ]
  },
  {
   "cell_type": "code",
   "execution_count": 50,
   "id": "187bebdf",
   "metadata": {},
   "outputs": [
    {
     "name": "stdout",
     "output_type": "stream",
     "text": [
      "              precision    recall  f1-score   support\n",
      "\n",
      "           0       1.00      0.99      0.99      2077\n",
      "           1       0.99      1.00      0.99      2083\n",
      "\n",
      "    accuracy                           0.99      4160\n",
      "   macro avg       0.99      0.99      0.99      4160\n",
      "weighted avg       0.99      0.99      0.99      4160\n",
      "\n"
     ]
    }
   ],
   "source": [
    "class_report(rf_model)"
   ]
  },
  {
   "cell_type": "markdown",
   "id": "d5641356",
   "metadata": {},
   "source": [
    "# K-nearest neighbors"
   ]
  },
  {
   "cell_type": "code",
   "execution_count": 51,
   "id": "02569075",
   "metadata": {},
   "outputs": [
    {
     "name": "stdout",
     "output_type": "stream",
     "text": [
      "KNN model score on Training data: 96.53846153846153%\n",
      "KNN model score on Testing data: 94.5673076923077%\n"
     ]
    }
   ],
   "source": [
    "knn = KNeighborsClassifier()\n",
    "train(knn, \"KNN\")"
   ]
  },
  {
   "cell_type": "code",
   "execution_count": 52,
   "id": "41b4c9e8",
   "metadata": {},
   "outputs": [
    {
     "data": {
      "image/png": "[encoded data removed]",
      "text/plain": [
       "<Figure size 800x500 with 2 Axes>"
      ]
     },
     "metadata": {},
     "output_type": "display_data"
    }
   ],
   "source": [
    "conf_matrix(knn)"
   ]
  },
  {
   "cell_type": "code",
   "execution_count": 53,
   "id": "e85df38e",
   "metadata": {},
   "outputs": [
    {
     "name": "stdout",
     "output_type": "stream",
     "text": [
      "              precision    recall  f1-score   support\n",
      "\n",
      "           0       0.93      0.96      0.95      2077\n",
      "           1       0.96      0.93      0.94      2083\n",
      "\n",
      "    accuracy                           0.95      4160\n",
      "   macro avg       0.95      0.95      0.95      4160\n",
      "weighted avg       0.95      0.95      0.95      4160\n",
      "\n"
     ]
    }
   ],
   "source": [
    "class_report(knn)"
   ]
  },
  {
   "cell_type": "markdown",
   "id": "fdc6c7c0",
   "metadata": {},
   "source": [
    "# Naive Bayes"
   ]
  },
  {
   "cell_type": "code",
   "execution_count": 54,
   "id": "58079fcb",
   "metadata": {},
   "outputs": [
    {
     "name": "stdout",
     "output_type": "stream",
     "text": [
      "Naive_Bayes score on cross validation: 96.46634615384617%\n",
      "Naive_Bayes model score on Training data: 99.65745192307692%\n",
      "Naive_Bayes model score on Testing data: 96.49038461538461%\n"
     ]
    }
   ],
   "source": [
    "naive_bayes = MultinomialNB()\n",
    "kfolds(naive_bayes, \"Naive_Bayes\")\n",
    "train(naive_bayes, \"Naive_Bayes\")"
   ]
  },
  {
   "cell_type": "code",
   "execution_count": 55,
   "id": "3600468d",
   "metadata": {},
   "outputs": [
    {
     "data": {
      "image/png": "[encoded data removed]",
      "text/plain": [
       "<Figure size 800x500 with 2 Axes>"
      ]
     },
     "metadata": {},
     "output_type": "display_data"
    }
   ],
   "source": [
    "conf_matrix(naive_bayes)"
   ]
  },
  {
   "cell_type": "code",
   "execution_count": 56,
   "id": "00fe559a",
   "metadata": {},
   "outputs": [
    {
     "name": "stdout",
     "output_type": "stream",
     "text": [
      "              precision    recall  f1-score   support\n",
      "\n",
      "           0       0.94      1.00      0.97      2077\n",
      "           1       1.00      0.93      0.96      2083\n",
      "\n",
      "    accuracy                           0.96      4160\n",
      "   macro avg       0.97      0.96      0.96      4160\n",
      "weighted avg       0.97      0.96      0.96      4160\n",
      "\n"
     ]
    }
   ],
   "source": [
    "class_report(naive_bayes)"
   ]
  },
  {
   "cell_type": "markdown",
   "id": "f9ddbc56",
   "metadata": {},
   "source": [
    "# Making Predictions"
   ]
  },
  {
   "cell_type": "code",
   "execution_count": 58,
   "id": "e993d7c1",
   "metadata": {},
   "outputs": [
    {
     "ename": "NameError",
     "evalue": "name 'model' is not defined",
     "output_type": "error",
     "traceback": [
      "\u001b[1;31m---------------------------------------------------------------------------\u001b[0m",
      "\u001b[1;31mNameError\u001b[0m                                 Traceback (most recent call last)",
      "Cell \u001b[1;32mIn[58], line 3\u001b[0m\n\u001b[0;32m      1\u001b[0m X_new \u001b[38;5;241m=\u001b[39m X_test[\u001b[38;5;241m0\u001b[39m]\n\u001b[1;32m----> 3\u001b[0m prediction \u001b[38;5;241m=\u001b[39m model\u001b[38;5;241m.\u001b[39mpredict(X_new)\n\u001b[0;32m      5\u001b[0m \u001b[38;5;28;01mif\u001b[39;00m (prediction[\u001b[38;5;241m0\u001b[39m]\u001b[38;5;241m==\u001b[39m\u001b[38;5;241m0\u001b[39m):\n\u001b[0;32m      6\u001b[0m   \u001b[38;5;28mprint\u001b[39m(\u001b[38;5;124m'\u001b[39m\u001b[38;5;124mThe news is Real\u001b[39m\u001b[38;5;124m'\u001b[39m)\n",
      "\u001b[1;31mNameError\u001b[0m: name 'model' is not defined"
     ]
    }
   ],
   "source": [
    "X_new = X_test[0]\n",
    "\n",
    "prediction = model.predict(X_new)\n",
    "\n",
    "if (prediction[0]==0):\n",
    "  print('The news is Real')\n",
    "else:\n",
    "  print('The news is Fake')"
   ]
  },
  {
   "cell_type": "code",
   "execution_count": null,
   "id": "a51b850b",
   "metadata": {},
   "outputs": [],
   "source": []
  }
 ],
 "metadata": {
  "kernelspec": {
   "display_name": "Python 3 (ipykernel)",
   "language": "python",
   "name": "python3"
  },
  "language_info": {
   "codemirror_mode": {
    "name": "ipython",
    "version": 3
   },
   "file_extension": ".py",
   "mimetype": "text/x-python",
   "name": "python",
   "nbconvert_exporter": "python",
   "pygments_lexer": "ipython3",
   "version": "3.11.5"
  }
 },
 "nbformat": 4,
 "nbformat_minor": 5
}
